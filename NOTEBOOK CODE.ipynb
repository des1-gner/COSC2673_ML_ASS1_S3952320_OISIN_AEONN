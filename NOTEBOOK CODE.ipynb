{
 "cells": [
  {
   "cell_type": "markdown",
   "id": "27a1e09a",
   "metadata": {},
   "source": [
    "Assignment 1 COSC 2673 Machine Learning\n",
    "\n",
    "Undergraduate Level\n",
    "\n",
    "Oisin Sol Emlyn Aeonn\n",
    "\n",
    "s3952320\n",
    "\n"
   ]
  },
  {
   "cell_type": "markdown",
   "id": "6c52b398",
   "metadata": {},
   "source": [
    "Ingest"
   ]
  },
  {
   "cell_type": "markdown",
   "id": "a51c380b",
   "metadata": {},
   "source": [
    "EDA"
   ]
  },
  {
   "cell_type": "markdown",
   "id": "8222e07b",
   "metadata": {},
   "source": [
    "Training a Regression Model "
   ]
  },
  {
   "cell_type": "markdown",
   "id": "3b91d43a",
   "metadata": {},
   "source": []
  },
  {
   "cell_type": "markdown",
   "id": "84488640",
   "metadata": {},
   "source": []
  },
  {
   "cell_type": "markdown",
   "id": "93376ba3",
   "metadata": {},
   "source": [
    "Validation"
   ]
  },
  {
   "cell_type": "markdown",
   "id": "d95bf0de",
   "metadata": {},
   "source": [
    "Testing"
   ]
  },
  {
   "cell_type": "markdown",
   "id": "87dc942b",
   "metadata": {},
   "source": [
    "Extension\n",
    "\n",
    "From this point was done for fun to further my knowledge of Machine Learning techniques. I will be using the Voting Ensemble Method to  "
   ]
  },
  {
   "cell_type": "markdown",
   "id": "e63a21ad",
   "metadata": {},
   "source": [
    "Azure AutoML"
   ]
  },
  {
   "cell_type": "markdown",
   "id": "79c78cfa",
   "metadata": {},
   "source": [
    "Maths"
   ]
  }
 ],
 "metadata": {
  "kernelspec": {
   "display_name": "Python 3 (ipykernel)",
   "language": "python",
   "name": "python3"
  },
  "language_info": {
   "codemirror_mode": {
    "name": "ipython",
    "version": 3
   },
   "file_extension": ".py",
   "mimetype": "text/x-python",
   "name": "python",
   "nbconvert_exporter": "python",
   "pygments_lexer": "ipython3",
   "version": "3.11.7"
  }
 },
 "nbformat": 4,
 "nbformat_minor": 5
}
